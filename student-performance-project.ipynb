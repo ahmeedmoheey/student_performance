{
 "cells": [
  {
   "cell_type": "code",
   "execution_count": 1,
   "id": "190189be",
   "metadata": {
    "_cell_guid": "b1076dfc-b9ad-4769-8c92-a6c4dae69d19",
    "_uuid": "8f2839f25d086af736a60e9eeb907d3b93b6e0e5",
    "execution": {
     "iopub.execute_input": "2025-05-06T00:57:40.859051Z",
     "iopub.status.busy": "2025-05-06T00:57:40.858647Z",
     "iopub.status.idle": "2025-05-06T00:57:42.981798Z",
     "shell.execute_reply": "2025-05-06T00:57:42.979704Z"
    },
    "papermill": {
     "duration": 2.130846,
     "end_time": "2025-05-06T00:57:42.984033",
     "exception": false,
     "start_time": "2025-05-06T00:57:40.853187",
     "status": "completed"
    },
    "tags": []
   },
   "outputs": [
    {
     "name": "stdout",
     "output_type": "stream",
     "text": [
      "/kaggle/input/student-performance-prediction/student_performance_dataset.csv\n"
     ]
    }
   ],
   "source": [
    "# This Python 3 environment comes with many helpful analytics libraries installed\n",
    "# It is defined by the kaggle/python Docker image: https://github.com/kaggle/docker-python\n",
    "# For example, here's several helpful packages to load\n",
    "\n",
    "import numpy as np # linear algebra\n",
    "import pandas as pd # data processing, CSV file I/O (e.g. pd.read_csv)\n",
    "\n",
    "# Input data files are available in the read-only \"../input/\" directory\n",
    "# For example, running this (by clicking run or pressing Shift+Enter) will list all files under the input directory\n",
    "\n",
    "import os\n",
    "for dirname, _, filenames in os.walk('/kaggle/input'):\n",
    "    for filename in filenames:\n",
    "        print(os.path.join(dirname, filename))\n",
    "\n",
    "# You can write up to 20GB to the current directory (/kaggle/working/) that gets preserved as output when you create a version using \"Save & Run All\" \n",
    "# You can also write temporary files to /kaggle/temp/, but they won't be saved outside of the current session"
   ]
  },
  {
   "cell_type": "code",
   "execution_count": 2,
   "id": "d6e1f007",
   "metadata": {
    "execution": {
     "iopub.execute_input": "2025-05-06T00:57:42.992131Z",
     "iopub.status.busy": "2025-05-06T00:57:42.991149Z",
     "iopub.status.idle": "2025-05-06T00:57:45.125491Z",
     "shell.execute_reply": "2025-05-06T00:57:45.124463Z"
    },
    "papermill": {
     "duration": 2.140074,
     "end_time": "2025-05-06T00:57:45.127436",
     "exception": false,
     "start_time": "2025-05-06T00:57:42.987362",
     "status": "completed"
    },
    "tags": []
   },
   "outputs": [],
   "source": [
    "import pandas as pd\n",
    "from sklearn.model_selection import train_test_split\n",
    "from sklearn.preprocessing import LabelEncoder, StandardScaler\n",
    "from sklearn.neighbors import KNeighborsClassifier\n",
    "from sklearn.linear_model import LogisticRegression, LinearRegression\n",
    "from sklearn.metrics import accuracy_score, classification_report\n",
    "import matplotlib.pyplot as plt\n"
   ]
  },
  {
   "cell_type": "code",
   "execution_count": 3,
   "id": "29c05abd",
   "metadata": {
    "execution": {
     "iopub.execute_input": "2025-05-06T00:57:45.134567Z",
     "iopub.status.busy": "2025-05-06T00:57:45.134028Z",
     "iopub.status.idle": "2025-05-06T00:57:45.167669Z",
     "shell.execute_reply": "2025-05-06T00:57:45.166653Z"
    },
    "papermill": {
     "duration": 0.039379,
     "end_time": "2025-05-06T00:57:45.169722",
     "exception": false,
     "start_time": "2025-05-06T00:57:45.130343",
     "status": "completed"
    },
    "tags": []
   },
   "outputs": [],
   "source": [
    "data = pd.read_csv('/kaggle/input/student-performance-prediction/student_performance_dataset.csv')\n",
    "\n",
    "data.columns = data.columns.str.strip()\n",
    "\n",
    "le = LabelEncoder()\n",
    "data['Gender'] = le.fit_transform(data['Gender'])\n",
    "data['Parental_Education_Level'] = le.fit_transform(data['Parental_Education_Level'])\n",
    "data['Internet_Access_at_Home'] = le.fit_transform(data['Internet_Access_at_Home'])\n",
    "data['Extracurricular_Activities'] = le.fit_transform(data['Extracurricular_Activities'])\n",
    "data['Pass_Fail'] = le.fit_transform(data['Pass_Fail'])\n",
    "\n",
    "data.fillna(0, inplace=True)\n"
   ]
  },
  {
   "cell_type": "code",
   "execution_count": 4,
   "id": "6887afea",
   "metadata": {
    "execution": {
     "iopub.execute_input": "2025-05-06T00:57:45.176888Z",
     "iopub.status.busy": "2025-05-06T00:57:45.176525Z",
     "iopub.status.idle": "2025-05-06T00:57:45.190393Z",
     "shell.execute_reply": "2025-05-06T00:57:45.189431Z"
    },
    "papermill": {
     "duration": 0.019632,
     "end_time": "2025-05-06T00:57:45.192230",
     "exception": false,
     "start_time": "2025-05-06T00:57:45.172598",
     "status": "completed"
    },
    "tags": []
   },
   "outputs": [],
   "source": [
    "X = data[\n",
    "    [\n",
    "        'Gender',\n",
    "        'Attendance_Rate',\n",
    "        'Study_Hours_per_Week',\n",
    "        'Parental_Education_Level',\n",
    "        'Internet_Access_at_Home',\n",
    "        'Extracurricular_Activities'\n",
    "    ]\n",
    "]\n",
    "y = data['Pass_Fail']\n"
   ]
  },
  {
   "cell_type": "code",
   "execution_count": 5,
   "id": "6a26688c",
   "metadata": {
    "execution": {
     "iopub.execute_input": "2025-05-06T00:57:45.199192Z",
     "iopub.status.busy": "2025-05-06T00:57:45.198875Z",
     "iopub.status.idle": "2025-05-06T00:57:45.211531Z",
     "shell.execute_reply": "2025-05-06T00:57:45.210575Z"
    },
    "papermill": {
     "duration": 0.017985,
     "end_time": "2025-05-06T00:57:45.213166",
     "exception": false,
     "start_time": "2025-05-06T00:57:45.195181",
     "status": "completed"
    },
    "tags": []
   },
   "outputs": [],
   "source": [
    "X_train, X_test, y_train, y_test = train_test_split(X, y, test_size=0.10, random_state=42)\n",
    "\n",
    "scaler = StandardScaler()\n",
    "X_train_scaled = scaler.fit_transform(X_train)\n",
    "X_test_scaled = scaler.transform(X_test)\n"
   ]
  },
  {
   "cell_type": "code",
   "execution_count": 6,
   "id": "7a886735",
   "metadata": {
    "execution": {
     "iopub.execute_input": "2025-05-06T00:57:45.219787Z",
     "iopub.status.busy": "2025-05-06T00:57:45.219469Z",
     "iopub.status.idle": "2025-05-06T00:57:45.243844Z",
     "shell.execute_reply": "2025-05-06T00:57:45.242582Z"
    },
    "papermill": {
     "duration": 0.029592,
     "end_time": "2025-05-06T00:57:45.245470",
     "exception": false,
     "start_time": "2025-05-06T00:57:45.215878",
     "status": "completed"
    },
    "tags": []
   },
   "outputs": [
    {
     "name": "stdout",
     "output_type": "stream",
     "text": [
      "=== KNN ===\n",
      "Accuracy: 0.8169014084507042\n",
      "              precision    recall  f1-score   support\n",
      "\n",
      "           0       0.88      0.76      0.81        37\n",
      "           1       0.77      0.88      0.82        34\n",
      "\n",
      "    accuracy                           0.82        71\n",
      "   macro avg       0.82      0.82      0.82        71\n",
      "weighted avg       0.82      0.82      0.82        71\n",
      "\n"
     ]
    }
   ],
   "source": [
    "accuracies = {}\n",
    "\n",
    "knn = KNeighborsClassifier(n_neighbors=3) \n",
    "knn.fit(X_train_scaled, y_train)\n",
    "\n",
    "y_pred_knn = knn.predict(X_test_scaled)\n",
    "acc_knn = accuracy_score(y_test, y_pred_knn)\n",
    "accuracies[\"KNN\"] = acc_knn\n",
    "\n",
    "print(\"=== KNN ===\")\n",
    "print(\"Accuracy:\", acc_knn)\n",
    "print(classification_report(y_test, y_pred_knn))\n"
   ]
  },
  {
   "cell_type": "code",
   "execution_count": 7,
   "id": "9dd5175f",
   "metadata": {
    "execution": {
     "iopub.execute_input": "2025-05-06T00:57:45.252200Z",
     "iopub.status.busy": "2025-05-06T00:57:45.251847Z",
     "iopub.status.idle": "2025-05-06T00:57:45.317408Z",
     "shell.execute_reply": "2025-05-06T00:57:45.316159Z"
    },
    "papermill": {
     "duration": 0.072799,
     "end_time": "2025-05-06T00:57:45.320985",
     "exception": false,
     "start_time": "2025-05-06T00:57:45.248186",
     "status": "completed"
    },
    "tags": []
   },
   "outputs": [
    {
     "name": "stdout",
     "output_type": "stream",
     "text": [
      "\n",
      "=== Logistic Regression ===\n",
      "Accuracy: 0.8732394366197183\n",
      "              precision    recall  f1-score   support\n",
      "\n",
      "           0       0.91      0.84      0.87        37\n",
      "           1       0.84      0.91      0.87        34\n",
      "\n",
      "    accuracy                           0.87        71\n",
      "   macro avg       0.87      0.87      0.87        71\n",
      "weighted avg       0.88      0.87      0.87        71\n",
      "\n"
     ]
    }
   ],
   "source": [
    "log_reg = LogisticRegression(C=0.5, max_iter=1000)\n",
    "log_reg.fit(X_train_scaled, y_train)\n",
    "\n",
    "y_pred_log = log_reg.predict(X_test_scaled)\n",
    "acc_log = accuracy_score(y_test, y_pred_log)\n",
    "accuracies[\"Logistic Regression\"] = acc_log\n",
    "\n",
    "print(\"\\n=== Logistic Regression ===\")\n",
    "print(\"Accuracy:\", acc_log)\n",
    "print(classification_report(y_test, y_pred_log))\n"
   ]
  },
  {
   "cell_type": "code",
   "execution_count": 8,
   "id": "11da7a53",
   "metadata": {
    "execution": {
     "iopub.execute_input": "2025-05-06T00:57:45.333469Z",
     "iopub.status.busy": "2025-05-06T00:57:45.332624Z",
     "iopub.status.idle": "2025-05-06T00:57:45.370446Z",
     "shell.execute_reply": "2025-05-06T00:57:45.369639Z"
    },
    "papermill": {
     "duration": 0.045435,
     "end_time": "2025-05-06T00:57:45.372484",
     "exception": false,
     "start_time": "2025-05-06T00:57:45.327049",
     "status": "completed"
    },
    "tags": []
   },
   "outputs": [
    {
     "name": "stdout",
     "output_type": "stream",
     "text": [
      "\n",
      "=== Linear Regression (as classifier) ===\n",
      "Accuracy: 0.8732394366197183\n",
      "              precision    recall  f1-score   support\n",
      "\n",
      "           0       0.91      0.84      0.87        37\n",
      "           1       0.84      0.91      0.87        34\n",
      "\n",
      "    accuracy                           0.87        71\n",
      "   macro avg       0.87      0.87      0.87        71\n",
      "weighted avg       0.88      0.87      0.87        71\n",
      "\n"
     ]
    }
   ],
   "source": [
    "lin_reg = LinearRegression()\n",
    "lin_reg.fit(X_train_scaled, y_train)\n",
    "\n",
    "y_pred_lin = lin_reg.predict(X_test_scaled)\n",
    "y_pred_lin_class = [1 if pred >= 0.5 else 0 for pred in y_pred_lin]\n",
    "acc_lin = accuracy_score(y_test, y_pred_lin_class)\n",
    "accuracies[\"Linear Regression\"] = acc_lin\n",
    "\n",
    "print(\"\\n=== Linear Regression (as classifier) ===\")\n",
    "print(\"Accuracy:\", acc_lin)\n",
    "print(classification_report(y_test, y_pred_lin_class))\n",
    "\n"
   ]
  },
  {
   "cell_type": "code",
   "execution_count": 9,
   "id": "9e0ccbfb",
   "metadata": {
    "execution": {
     "iopub.execute_input": "2025-05-06T00:57:45.382870Z",
     "iopub.status.busy": "2025-05-06T00:57:45.382533Z",
     "iopub.status.idle": "2025-05-06T00:57:45.653629Z",
     "shell.execute_reply": "2025-05-06T00:57:45.652706Z"
    },
    "papermill": {
     "duration": 0.27809,
     "end_time": "2025-05-06T00:57:45.655511",
     "exception": false,
     "start_time": "2025-05-06T00:57:45.377421",
     "status": "completed"
    },
    "tags": []
   },
   "outputs": [
    {
     "data": {
      "image/png": "[encoded data removed]",
      "text/plain": [
       "<Figure size 800x500 with 1 Axes>"
      ]
     },
     "metadata": {},
     "output_type": "display_data"
    }
   ],
   "source": [
    "plt.figure(figsize=(8, 5))\n",
    "plt.bar(accuracies.keys(), accuracies.values(), color=['grey', 'grey', 'grey'])\n",
    "plt.ylim(0.70, 0.95)  # إزالة \\\\ واستخدام الفاصلة , بدلًا منها\n",
    "plt.ylabel('Accuracy')\n",
    "plt.title('Model Accuracy Comparison (Target: ~80%)')\n",
    "\n",
    "for i, v in enumerate(accuracies.values()):\n",
    "    plt.text(i, v + 0.005, f\"{v:.2f}\", ha='center')\n",
    "\n",
    "plt.axhline(0.80, color='gray', linestyle='--', label='Target Accuracy')\n",
    "plt.legend()\n",
    "plt.show()\n"
   ]
  },
  {
   "cell_type": "code",
   "execution_count": 10,
   "id": "23260f6f",
   "metadata": {
    "execution": {
     "iopub.execute_input": "2025-05-06T00:57:45.664265Z",
     "iopub.status.busy": "2025-05-06T00:57:45.663473Z",
     "iopub.status.idle": "2025-05-06T00:57:45.675747Z",
     "shell.execute_reply": "2025-05-06T00:57:45.674614Z"
    },
    "papermill": {
     "duration": 0.018697,
     "end_time": "2025-05-06T00:57:45.677686",
     "exception": false,
     "start_time": "2025-05-06T00:57:45.658989",
     "status": "completed"
    },
    "tags": []
   },
   "outputs": [
    {
     "name": "stdout",
     "output_type": "stream",
     "text": [
      "\n",
      "=== Preview of Dataset ===\n",
      "  Student_ID  Gender  Study_Hours_per_Week  Attendance_Rate  Past_Exam_Scores  \\\n",
      "0       S147       1                    31        68.267841                86   \n",
      "1       S136       1                    16        78.222927                73   \n",
      "2       S209       0                    21        87.525096                74   \n",
      "3       S458       0                    27        92.076483                99   \n",
      "4       S078       0                    37        98.655517                63   \n",
      "\n",
      "   Parental_Education_Level  Internet_Access_at_Home  \\\n",
      "0                         1                        1   \n",
      "1                         3                        0   \n",
      "2                         3                        1   \n",
      "3                         0                        0   \n",
      "4                         2                        0   \n",
      "\n",
      "   Extracurricular_Activities  Final_Exam_Score  Pass_Fail  \n",
      "0                           1                63          1  \n",
      "1                           0                50          0  \n",
      "2                           0                55          0  \n",
      "3                           0                65          1  \n",
      "4                           1                70          1  \n"
     ]
    }
   ],
   "source": [
    "print(\"\\n=== Preview of Dataset ===\")\n",
    "print(data.head())\n"
   ]
  }
 ],
 "metadata": {
  "kaggle": {
   "accelerator": "none",
   "dataSources": [
    {
     "datasetId": 6780703,
     "sourceId": 10909264,
     "sourceType": "datasetVersion"
    }
   ],
   "dockerImageVersionId": 31012,
   "isGpuEnabled": false,
   "isInternetEnabled": false,
   "language": "python",
   "sourceType": "notebook"
  },
  "kernelspec": {
   "display_name": "Python 3",
   "language": "python",
   "name": "python3"
  },
  "language_info": {
   "codemirror_mode": {
    "name": "ipython",
    "version": 3
   },
   "file_extension": ".py",
   "mimetype": "text/x-python",
   "name": "python",
   "nbconvert_exporter": "python",
   "pygments_lexer": "ipython3",
   "version": "3.11.11"
  },
  "papermill": {
   "default_parameters": {},
   "duration": 10.791394,
   "end_time": "2025-05-06T00:57:46.401578",
   "environment_variables": {},
   "exception": null,
   "input_path": "__notebook__.ipynb",
   "output_path": "__notebook__.ipynb",
   "parameters": {},
   "start_time": "2025-05-06T00:57:35.610184",
   "version": "2.6.0"
  }
 },
 "nbformat": 4,
 "nbformat_minor": 5
}
