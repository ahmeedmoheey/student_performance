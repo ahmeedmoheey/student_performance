{
 "cells": [
  {
   "cell_type": "code",
   "execution_count": 1,
   "id": "e9a05f8b",
   "metadata": {
    "_cell_guid": "b1076dfc-b9ad-4769-8c92-a6c4dae69d19",
    "_uuid": "8f2839f25d086af736a60e9eeb907d3b93b6e0e5",
    "execution": {
     "iopub.execute_input": "2025-05-05T00:28:23.249133Z",
     "iopub.status.busy": "2025-05-05T00:28:23.248867Z",
     "iopub.status.idle": "2025-05-05T00:28:24.917086Z",
     "shell.execute_reply": "2025-05-05T00:28:24.915339Z"
    },
    "papermill": {
     "duration": 1.67493,
     "end_time": "2025-05-05T00:28:24.919359",
     "exception": false,
     "start_time": "2025-05-05T00:28:23.244429",
     "status": "completed"
    },
    "tags": []
   },
   "outputs": [
    {
     "name": "stdout",
     "output_type": "stream",
     "text": [
      "/kaggle/input/student-performance-prediction/student_performance_dataset.csv\n"
     ]
    }
   ],
   "source": [
    "# This Python 3 environment comes with many helpful analytics libraries installed\n",
    "# It is defined by the kaggle/python Docker image: https://github.com/kaggle/docker-python\n",
    "# For example, here's several helpful packages to load\n",
    "\n",
    "import numpy as np # linear algebra\n",
    "import pandas as pd # data processing, CSV file I/O (e.g. pd.read_csv)\n",
    "\n",
    "# Input data files are available in the read-only \"../input/\" directory\n",
    "# For example, running this (by clicking run or pressing Shift+Enter) will list all files under the input directory\n",
    "\n",
    "import os\n",
    "for dirname, _, filenames in os.walk('/kaggle/input'):\n",
    "    for filename in filenames:\n",
    "        print(os.path.join(dirname, filename))\n",
    "\n",
    "# You can write up to 20GB to the current directory (/kaggle/working/) that gets preserved as output when you create a version using \"Save & Run All\" \n",
    "# You can also write temporary files to /kaggle/temp/, but they won't be saved outside of the current session"
   ]
  },
  {
   "cell_type": "code",
   "execution_count": 2,
   "id": "8145413f",
   "metadata": {
    "execution": {
     "iopub.execute_input": "2025-05-05T00:28:24.925919Z",
     "iopub.status.busy": "2025-05-05T00:28:24.925512Z",
     "iopub.status.idle": "2025-05-05T00:28:26.965894Z",
     "shell.execute_reply": "2025-05-05T00:28:26.964752Z"
    },
    "papermill": {
     "duration": 2.045255,
     "end_time": "2025-05-05T00:28:26.967896",
     "exception": false,
     "start_time": "2025-05-05T00:28:24.922641",
     "status": "completed"
    },
    "tags": []
   },
   "outputs": [],
   "source": [
    "import pandas as pd\n",
    "from sklearn.model_selection import train_test_split\n",
    "from sklearn.preprocessing import LabelEncoder, StandardScaler\n",
    "from sklearn.neighbors import KNeighborsClassifier\n",
    "from sklearn.linear_model import LogisticRegression, LinearRegression\n",
    "from sklearn.metrics import accuracy_score, classification_report\n",
    "import matplotlib.pyplot as plt\n"
   ]
  },
  {
   "cell_type": "code",
   "execution_count": 3,
   "id": "40a2d563",
   "metadata": {
    "execution": {
     "iopub.execute_input": "2025-05-05T00:28:26.974601Z",
     "iopub.status.busy": "2025-05-05T00:28:26.974060Z",
     "iopub.status.idle": "2025-05-05T00:28:27.010695Z",
     "shell.execute_reply": "2025-05-05T00:28:27.009908Z"
    },
    "papermill": {
     "duration": 0.042417,
     "end_time": "2025-05-05T00:28:27.013065",
     "exception": false,
     "start_time": "2025-05-05T00:28:26.970648",
     "status": "completed"
    },
    "tags": []
   },
   "outputs": [],
   "source": [
    "data = pd.read_csv('/kaggle/input/student-performance-prediction/student_performance_dataset.csv')\n",
    "\n",
    "data.columns = data.columns.str.strip()\n",
    "\n",
    "le = LabelEncoder()\n",
    "data['Gender'] = le.fit_transform(data['Gender'])\n",
    "data['Parental_Education_Level'] = le.fit_transform(data['Parental_Education_Level'])\n",
    "data['Internet_Access_at_Home'] = le.fit_transform(data['Internet_Access_at_Home'])\n",
    "data['Extracurricular_Activities'] = le.fit_transform(data['Extracurricular_Activities'])\n",
    "data['Pass_Fail'] = le.fit_transform(data['Pass_Fail'])\n",
    "\n",
    "data.fillna(0, inplace=True)\n"
   ]
  },
  {
   "cell_type": "code",
   "execution_count": 4,
   "id": "659519bc",
   "metadata": {
    "execution": {
     "iopub.execute_input": "2025-05-05T00:28:27.018414Z",
     "iopub.status.busy": "2025-05-05T00:28:27.018113Z",
     "iopub.status.idle": "2025-05-05T00:28:27.031436Z",
     "shell.execute_reply": "2025-05-05T00:28:27.030570Z"
    },
    "papermill": {
     "duration": 0.017991,
     "end_time": "2025-05-05T00:28:27.033204",
     "exception": false,
     "start_time": "2025-05-05T00:28:27.015213",
     "status": "completed"
    },
    "tags": []
   },
   "outputs": [],
   "source": [
    "X = data[\n",
    "    [\n",
    "        'Gender',\n",
    "        'Attendance_Rate',\n",
    "        'Study_Hours_per_Week',\n",
    "        'Parental_Education_Level',\n",
    "        'Internet_Access_at_Home',\n",
    "        'Extracurricular_Activities'\n",
    "    ]\n",
    "]\n",
    "y = data['Pass_Fail']\n"
   ]
  },
  {
   "cell_type": "code",
   "execution_count": 5,
   "id": "44346d1a",
   "metadata": {
    "execution": {
     "iopub.execute_input": "2025-05-05T00:28:27.040075Z",
     "iopub.status.busy": "2025-05-05T00:28:27.038860Z",
     "iopub.status.idle": "2025-05-05T00:28:27.051684Z",
     "shell.execute_reply": "2025-05-05T00:28:27.049968Z"
    },
    "papermill": {
     "duration": 0.017839,
     "end_time": "2025-05-05T00:28:27.053460",
     "exception": false,
     "start_time": "2025-05-05T00:28:27.035621",
     "status": "completed"
    },
    "tags": []
   },
   "outputs": [],
   "source": [
    "X_train, X_test, y_train, y_test = train_test_split(X, y, test_size=0.2, random_state=42)\n",
    "\n",
    "scaler = StandardScaler()\n",
    "X_train_scaled = scaler.fit_transform(X_train)\n",
    "X_test_scaled = scaler.transform(X_test)\n"
   ]
  },
  {
   "cell_type": "code",
   "execution_count": 6,
   "id": "7853c03d",
   "metadata": {
    "execution": {
     "iopub.execute_input": "2025-05-05T00:28:27.059197Z",
     "iopub.status.busy": "2025-05-05T00:28:27.058896Z",
     "iopub.status.idle": "2025-05-05T00:28:27.083876Z",
     "shell.execute_reply": "2025-05-05T00:28:27.082924Z"
    },
    "papermill": {
     "duration": 0.029175,
     "end_time": "2025-05-05T00:28:27.085194",
     "exception": false,
     "start_time": "2025-05-05T00:28:27.056019",
     "status": "completed"
    },
    "tags": []
   },
   "outputs": [
    {
     "name": "stdout",
     "output_type": "stream",
     "text": [
      "=== KNN ===\n",
      "Accuracy: 0.7676056338028169\n",
      "              precision    recall  f1-score   support\n",
      "\n",
      "           0       0.85      0.65      0.74        71\n",
      "           1       0.72      0.89      0.79        71\n",
      "\n",
      "    accuracy                           0.77       142\n",
      "   macro avg       0.78      0.77      0.76       142\n",
      "weighted avg       0.78      0.77      0.76       142\n",
      "\n"
     ]
    }
   ],
   "source": [
    "accuracies = {}\n",
    "\n",
    "knn = KNeighborsClassifier(n_neighbors=3) \n",
    "knn.fit(X_train_scaled, y_train)\n",
    "\n",
    "y_pred_knn = knn.predict(X_test_scaled)\n",
    "acc_knn = accuracy_score(y_test, y_pred_knn)\n",
    "accuracies[\"KNN\"] = acc_knn\n",
    "\n",
    "print(\"=== KNN ===\")\n",
    "print(\"Accuracy:\", acc_knn)\n",
    "print(classification_report(y_test, y_pred_knn))\n"
   ]
  },
  {
   "cell_type": "code",
   "execution_count": 7,
   "id": "0f71e192",
   "metadata": {
    "execution": {
     "iopub.execute_input": "2025-05-05T00:28:27.090817Z",
     "iopub.status.busy": "2025-05-05T00:28:27.090570Z",
     "iopub.status.idle": "2025-05-05T00:28:27.124248Z",
     "shell.execute_reply": "2025-05-05T00:28:27.122180Z"
    },
    "papermill": {
     "duration": 0.038408,
     "end_time": "2025-05-05T00:28:27.125976",
     "exception": false,
     "start_time": "2025-05-05T00:28:27.087568",
     "status": "completed"
    },
    "tags": []
   },
   "outputs": [
    {
     "name": "stdout",
     "output_type": "stream",
     "text": [
      "\n",
      "=== Logistic Regression ===\n",
      "Accuracy: 0.7605633802816901\n",
      "              precision    recall  f1-score   support\n",
      "\n",
      "           0       0.77      0.75      0.76        71\n",
      "           1       0.75      0.77      0.76        71\n",
      "\n",
      "    accuracy                           0.76       142\n",
      "   macro avg       0.76      0.76      0.76       142\n",
      "weighted avg       0.76      0.76      0.76       142\n",
      "\n"
     ]
    }
   ],
   "source": [
    "log_reg = LogisticRegression(C=0.5, max_iter=1000)\n",
    "log_reg.fit(X_train_scaled, y_train)\n",
    "\n",
    "y_pred_log = log_reg.predict(X_test_scaled)\n",
    "acc_log = accuracy_score(y_test, y_pred_log)\n",
    "accuracies[\"Logistic Regression\"] = acc_log\n",
    "\n",
    "print(\"\\n=== Logistic Regression ===\")\n",
    "print(\"Accuracy:\", acc_log)\n",
    "print(classification_report(y_test, y_pred_log))\n"
   ]
  },
  {
   "cell_type": "code",
   "execution_count": 8,
   "id": "d81cc0b3",
   "metadata": {
    "execution": {
     "iopub.execute_input": "2025-05-05T00:28:27.136051Z",
     "iopub.status.busy": "2025-05-05T00:28:27.135691Z",
     "iopub.status.idle": "2025-05-05T00:28:27.175543Z",
     "shell.execute_reply": "2025-05-05T00:28:27.174885Z"
    },
    "papermill": {
     "duration": 0.045362,
     "end_time": "2025-05-05T00:28:27.177244",
     "exception": false,
     "start_time": "2025-05-05T00:28:27.131882",
     "status": "completed"
    },
    "tags": []
   },
   "outputs": [
    {
     "name": "stdout",
     "output_type": "stream",
     "text": [
      "\n",
      "=== Linear Regression (as classifier) ===\n",
      "Accuracy: 0.7605633802816901\n",
      "              precision    recall  f1-score   support\n",
      "\n",
      "           0       0.77      0.75      0.76        71\n",
      "           1       0.75      0.77      0.76        71\n",
      "\n",
      "    accuracy                           0.76       142\n",
      "   macro avg       0.76      0.76      0.76       142\n",
      "weighted avg       0.76      0.76      0.76       142\n",
      "\n"
     ]
    }
   ],
   "source": [
    "lin_reg = LinearRegression()\n",
    "lin_reg.fit(X_train_scaled, y_train)\n",
    "\n",
    "y_pred_lin = lin_reg.predict(X_test_scaled)\n",
    "y_pred_lin_class = [1 if pred >= 0.5 else 0 for pred in y_pred_lin]\n",
    "acc_lin = accuracy_score(y_test, y_pred_lin_class)\n",
    "accuracies[\"Linear Regression\"] = acc_lin\n",
    "\n",
    "print(\"\\n=== Linear Regression (as classifier) ===\")\n",
    "print(\"Accuracy:\", acc_lin)\n",
    "print(classification_report(y_test, y_pred_lin_class))\n",
    "\n"
   ]
  },
  {
   "cell_type": "code",
   "execution_count": 9,
   "id": "1c50122f",
   "metadata": {
    "execution": {
     "iopub.execute_input": "2025-05-05T00:28:27.184495Z",
     "iopub.status.busy": "2025-05-05T00:28:27.184108Z",
     "iopub.status.idle": "2025-05-05T00:28:27.408462Z",
     "shell.execute_reply": "2025-05-05T00:28:27.407519Z"
    },
    "papermill": {
     "duration": 0.229387,
     "end_time": "2025-05-05T00:28:27.409942",
     "exception": false,
     "start_time": "2025-05-05T00:28:27.180555",
     "status": "completed"
    },
    "tags": []
   },
   "outputs": [
    {
     "data": {
      "image/png": "[encoded data removed]",
      "text/plain": [
       "<Figure size 800x500 with 1 Axes>"
      ]
     },
     "metadata": {},
     "output_type": "display_data"
    }
   ],
   "source": [
    "plt.figure(figsize=(8, 5))\n",
    "plt.bar(accuracies.keys(), accuracies.values(), color=['grey', 'grey', 'grey'])\n",
    "plt.ylim(0.75, 0.95)\n",
    "plt.ylabel('Accuracy')\n",
    "plt.title('Model Accuracy Comparison (Target: ~80%)')\n",
    "\n",
    "for i, v in enumerate(accuracies.values()):\n",
    "    plt.text(i, v + 0.005, f\"{v:.2f}\", ha='center')\n",
    "\n",
    "plt.axhline(0.80, color='gray', linestyle='--', label='Target Accuracy')\n",
    "plt.legend()\n",
    "plt.show()\n"
   ]
  },
  {
   "cell_type": "code",
   "execution_count": 10,
   "id": "4f9cf54f",
   "metadata": {
    "execution": {
     "iopub.execute_input": "2025-05-05T00:28:27.416478Z",
     "iopub.status.busy": "2025-05-05T00:28:27.416146Z",
     "iopub.status.idle": "2025-05-05T00:28:27.426314Z",
     "shell.execute_reply": "2025-05-05T00:28:27.425784Z"
    },
    "papermill": {
     "duration": 0.014577,
     "end_time": "2025-05-05T00:28:27.427328",
     "exception": false,
     "start_time": "2025-05-05T00:28:27.412751",
     "status": "completed"
    },
    "tags": []
   },
   "outputs": [
    {
     "name": "stdout",
     "output_type": "stream",
     "text": [
      "\n",
      "=== Preview of Dataset ===\n",
      "  Student_ID  Gender  Study_Hours_per_Week  Attendance_Rate  Past_Exam_Scores  \\\n",
      "0       S147       1                    31        68.267841                86   \n",
      "1       S136       1                    16        78.222927                73   \n",
      "2       S209       0                    21        87.525096                74   \n",
      "3       S458       0                    27        92.076483                99   \n",
      "4       S078       0                    37        98.655517                63   \n",
      "\n",
      "   Parental_Education_Level  Internet_Access_at_Home  \\\n",
      "0                         1                        1   \n",
      "1                         3                        0   \n",
      "2                         3                        1   \n",
      "3                         0                        0   \n",
      "4                         2                        0   \n",
      "\n",
      "   Extracurricular_Activities  Final_Exam_Score  Pass_Fail  \n",
      "0                           1                63          1  \n",
      "1                           0                50          0  \n",
      "2                           0                55          0  \n",
      "3                           0                65          1  \n",
      "4                           1                70          1  \n"
     ]
    }
   ],
   "source": [
    "print(\"\\n=== Preview of Dataset ===\")\n",
    "print(data.head())\n"
   ]
  }
 ],
 "metadata": {
  "kaggle": {
   "accelerator": "none",
   "dataSources": [
    {
     "datasetId": 6780703,
     "sourceId": 10909264,
     "sourceType": "datasetVersion"
    }
   ],
   "dockerImageVersionId": 31012,
   "isGpuEnabled": false,
   "isInternetEnabled": false,
   "language": "python",
   "sourceType": "notebook"
  },
  "kernelspec": {
   "display_name": "Python 3",
   "language": "python",
   "name": "python3"
  },
  "language_info": {
   "codemirror_mode": {
    "name": "ipython",
    "version": 3
   },
   "file_extension": ".py",
   "mimetype": "text/x-python",
   "name": "python",
   "nbconvert_exporter": "python",
   "pygments_lexer": "ipython3",
   "version": "3.11.11"
  },
  "papermill": {
   "default_parameters": {},
   "duration": 9.191777,
   "end_time": "2025-05-05T00:28:28.048652",
   "environment_variables": {},
   "exception": null,
   "input_path": "__notebook__.ipynb",
   "output_path": "__notebook__.ipynb",
   "parameters": {},
   "start_time": "2025-05-05T00:28:18.856875",
   "version": "2.6.0"
  }
 },
 "nbformat": 4,
 "nbformat_minor": 5
}
